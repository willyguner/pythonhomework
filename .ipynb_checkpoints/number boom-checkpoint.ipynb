{
 "cells": [
  {
   "cell_type": "code",
   "execution_count": null,
   "metadata": {},
   "outputs": [
    {
     "name": "stdout",
     "output_type": "stream",
     "text": [
      "請輸入1~100其中一個數\n",
      "1000\n",
      "輸入錯誤 請輸入%d~%d的其中一個數字 1 100\n"
     ]
    }
   ],
   "source": [
    "%matplotlib inline\n",
    "import numpy as np\n",
    "import matplotlib.pyplot as plt\n",
    "\n",
    "num=np.random.randint(1,100)\n",
    "low=1\n",
    "high=100\n",
    "while True:\n",
    "    a= int(input(\"請輸入1~100其中一個數\"))\n",
    "    if(a<low or a>high):\n",
    "        print(\"輸入錯誤 請重新輸入%d~%d的其中一個數字\",low,high)\n",
    "        continue\n",
    "    if(a!=num):\n",
    "        if(num>a):\n",
    "            low=a\n",
    "        else:\n",
    "            high=a\n",
    "    else:\n",
    "        print(\"你輸了，炸彈數字為%d\",num)\n",
    "        break\n",
    "    npc=np.random.randint(low,high)\n",
    "    \n",
    "    "
   ]
  },
  {
   "cell_type": "code",
   "execution_count": null,
   "metadata": {},
   "outputs": [],
   "source": []
  }
 ],
 "metadata": {
  "kernelspec": {
   "display_name": "Python 3",
   "language": "python",
   "name": "python3"
  },
  "language_info": {
   "codemirror_mode": {
    "name": "ipython",
    "version": 3
   },
   "file_extension": ".py",
   "mimetype": "text/x-python",
   "name": "python",
   "nbconvert_exporter": "python",
   "pygments_lexer": "ipython3",
   "version": "3.6.5"
  }
 },
 "nbformat": 4,
 "nbformat_minor": 2
}
