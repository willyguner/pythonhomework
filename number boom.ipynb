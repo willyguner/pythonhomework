{
 "cells": [
  {
   "cell_type": "code",
   "execution_count": null,
   "metadata": {},
   "outputs": [
    {
     "name": "stdout",
     "output_type": "stream",
     "text": [
      "請輸入1~100的其中一個數字\n",
      "5\n",
      "請輸入5~100的其中一個數字\n",
      "電腦輸入的數字為27\n",
      "請輸入27~100的其中一個數字\n",
      "66\n",
      "請輸入66~100的其中一個數字\n",
      "電腦輸入的數字為72\n",
      "請輸入72~100的其中一個數字\n"
     ]
    }
   ],
   "source": [
    "%matplotlib inline\n",
    "import numpy as np\n",
    "import matplotlib.pyplot as plt\n",
    "\n",
    "num=np.random.randint(1,100)\n",
    "low=1\n",
    "high=100\n",
    "while True:\n",
    "    print(\"請輸入%d~%d的其中一個數字\"%(low,high))\n",
    "    a= int(input())\n",
    "    if(a<low or a>high):\n",
    "        print(\"輸入錯誤 請重新輸入%d~%d的其中一個數字\"%(low,high))\n",
    "        continue\n",
    "    if(a!=num):\n",
    "        if(num>a):\n",
    "            low=a\n",
    "        else:\n",
    "            high=a\n",
    "    else:\n",
    "        print(\"你輸了，炸彈數字為%d\"%num)\n",
    "        break\n",
    "    print(\"請輸入%d~%d的其中一個數字\"%(low,high))\n",
    "    npc=np.random.randint(low+1,high-1)\n",
    "    print(\"電腦輸入的數字為%d\"%npc)\n",
    "    if(npc!=num):\n",
    "        if(num>npc):\n",
    "            low=npc\n",
    "        else:\n",
    "            high=npc\n",
    "    else:\n",
    "        print(\"電腦輸了，炸彈數字為%d\"%num)\n",
    "        break"
   ]
  },
  {
   "cell_type": "code",
   "execution_count": null,
   "metadata": {},
   "outputs": [],
   "source": []
  },
  {
   "cell_type": "code",
   "execution_count": null,
   "metadata": {},
   "outputs": [],
   "source": []
  }
 ],
 "metadata": {
  "kernelspec": {
   "display_name": "Python 3",
   "language": "python",
   "name": "python3"
  },
  "language_info": {
   "codemirror_mode": {
    "name": "ipython",
    "version": 3
   },
   "file_extension": ".py",
   "mimetype": "text/x-python",
   "name": "python",
   "nbconvert_exporter": "python",
   "pygments_lexer": "ipython3",
   "version": "3.6.5"
  }
 },
 "nbformat": 4,
 "nbformat_minor": 2
}
